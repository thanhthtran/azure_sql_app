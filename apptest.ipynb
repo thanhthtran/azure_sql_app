{
 "cells": [
  {
   "cell_type": "code",
   "execution_count": 2,
   "metadata": {},
   "outputs": [],
   "source": [
    "import logging\n",
    "from flask import Flask\n",
    "from config import Config\n",
    "from flask_sqlalchemy import SQLAlchemy\n",
    "from flask_login import LoginManager\n",
    "from flask_session import Session\n",
    "\n",
    "\n",
    "app = Flask(__name__)\n",
    "app.config.from_object(Config)\n",
    "app.logger.setLevel(logging.WARNING)\n",
    "streamHandler = logging.StreamHandler()\n",
    "streamHandler.setLevel(logging.WARNING)\n",
    "app.logger.addHandler(streamHandler)\n",
    "\n",
    "Session(app)\n",
    "\n",
    "db = SQLAlchemy(app)\n",
    "import FlaskWebProject.views\n"
   ]
  },
  {
   "cell_type": "code",
   "execution_count": null,
   "metadata": {},
   "outputs": [],
   "source": []
  },
  {
   "cell_type": "code",
   "execution_count": null,
   "metadata": {},
   "outputs": [],
   "source": []
  },
  {
   "cell_type": "code",
   "execution_count": null,
   "metadata": {},
   "outputs": [],
   "source": []
  }
 ],
 "metadata": {
  "kernelspec": {
   "display_name": "azure",
   "language": "python",
   "name": "python3"
  },
  "language_info": {
   "codemirror_mode": {
    "name": "ipython",
    "version": 3
   },
   "file_extension": ".py",
   "mimetype": "text/x-python",
   "name": "python",
   "nbconvert_exporter": "python",
   "pygments_lexer": "ipython3",
   "version": "3.10.14"
  }
 },
 "nbformat": 4,
 "nbformat_minor": 2
}
